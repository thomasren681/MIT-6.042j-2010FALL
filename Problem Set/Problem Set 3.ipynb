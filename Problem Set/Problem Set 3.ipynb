{
 "cells": [
  {
   "cell_type": "markdown",
   "id": "345e3da5",
   "metadata": {},
   "source": [
    "<div align='center' ><font size='100' color=blue>Problem Set 3</font></div>"
   ]
  },
  {
   "cell_type": "markdown",
   "id": "37e15346",
   "metadata": {},
   "source": [
    "# Problem 1\n",
    "## Question\n",
    "For the following parts, a correct numerical answer will only earn credit if accompanied by\n",
    "it’s derivation. Show your work.  \n",
    "**(a)** Use the Pulverizer to find integers s and t such that 135s + 59t = gcd(135, 59).  \n",
    "**(b)** Use the previous part to find the inverse of 59 modulo 135 in the range {1, . . . , 134}.  \n",
    "**(c)** Use Euler’s theorem to find the inverse of 17 modulo 31 in the range {1, . . . , 30}.  \n",
    "**(d)** Find the remainder of $34^82248$ divided by 83. (Hint: Euler’s theorem.)  \n",
    "  \n",
    "## Answer\n",
    "**(a)** By Pulverizer, we know that $$gcd(135,59) = gcd(59,rem(135,59)) = gcd(59,17)$$ $$\\Rightarrow\\  = gcd(17,8) = gcd(8,1) = 1$$  \n",
    "During the process, we can get following equation $$17 = 135-2\\cdot 59\\mid\\   8 = 59-3\\cdot 17\\mid\\   1 = 17-2\\cdot 8$$  \n",
    "Thus, we can express 1 with 135 and 59: $$gcd(135,59) = 1 = 7\\cdot 135+(-16)\\cdot 59$$, where $s = 7\\ and\\ t = -16$  \n",
    "**(b)** From the above equation we know that $-16\\cdot 59\\equiv 1(mod 135)$, so $-16$ is an inverse of 59 modulo 135. But what we need is an interger ranging from 1 to 134. So $$\\because 135\\cdot 59 -59\\cdot 135 = 0$$ $$\\therefore (7-59)\\cdot135 + (-16+135)\\cdot 59 = 1$$\n",
    "$$\\Rightarrow\\  \\ \\ 119\\cdot 59\\equiv 1(mod\\ 135)$$\n",
    "Therefore, the inverse of 59 modulo 135 ranging from 1 to 134 is *119*  \n",
    "**(c)** Obviously, 31 and 17 are both primes. According to Euler's Theorem, $17^{\\phi(31)}\\equiv 1(mod\\ 31)$.  \n",
    "Apparently, $7^{\\phi(31)-1}$ is the inverse of 17 modulo 31. $$\\because 31\\  is\\ prime\\Rightarrow \\phi(31) = 31-1=30$$ $$\\because 7^{29}\\equiv 11(mod\\ 31)$$ $$\\therefore 11\\times17\\equiv1(mod\\ 31)$$  \n",
    "Therefore, 11 is the inverse of 17 modulo 31 in the range {1, . . . , 30}.  \n",
    "**(d)** We can use the defination of modulo that $$34^{82248}\\equiv rem(34^{82248},83)(mod\\ 83)$$\n",
    "According to Euler's Theorem: $$34^{\\phi(83)}\\equiv1(mod\\ 83),\\ \\phi(83) = 82$$ $$\\because 82248 = 1003\\cdot82+2$$ \n",
    "$$\\because 34^2\\equiv 77 (mod\\ 83)$$ $$\\therefore 34^{82248} = (34^{82})^{1003}\\cdot 34^2\\equiv 1^{1003}\\cdot 77(mod\\ 83) = 77(mod\\ 83)$$\n",
    "$$\\therefore rem(34^{82248},83) = 77$$"
   ]
  },
  {
   "cell_type": "markdown",
   "id": "38d40e86",
   "metadata": {},
   "source": [
    "# Problem 2\n",
    "## Question\n",
    "Prove the following statements, assuming all numbers are positive integers.  \n",
    "**(a)** If $a\\mid b,\\ then \\forall c, a\\mid bc$.  \n",
    "**(b)** If $a\\mid b\\ and\\ a\\mid c,\\ then\\ a\\mid sb+tc$.  \n",
    "**(c)** $\\forall c,a\\mid b\\Leftrightarrow ca\\mid cb$.  \n",
    "**(d)** $gcd(ka,kb) = kgcd(a,b)$.  \n",
    "  \n",
    "## Answer\n",
    "**(a)** $$a\\mid b \\Rightarrow b = s\\cdot a\\Leftrightarrow bc = cs\\cdot a$$ $$\\Longrightarrow a\\mid bc$$ \n",
    "**(b)** $$a\\mid b\\ and\\ a\\mid c\\Rightarrow b = ia, c = ja$$ $$\\Longrightarrow sb+tc = sia+tja = (si+tj)a$$ $$\\Longrightarrow a\\mid sb+tc$$\n",
    "**(c)** $$a\\mid b\\Leftrightarrow b = ka$$ $$\\Leftrightarrow cb = cka = k(ca)$$ $$\\Leftrightarrow ca\\mid cb$$\n",
    "**(d)** $$gcd(a,b) = sa+tb$$ $$\\Leftrightarrow kgcd(a,b) = ksa+ktb = s(ka)+t(kb)$$ \n",
    "$s(ka)+t(kb)$ is a multiple of $gcd(ka,kb)$ and since $sa+tb$ is the smallest positive linear combination of $a,b$ \n",
    "$$\\forall x,y\\ ,\\ gcd(a,b) = min(ax+by) \\Leftrightarrow kgcd(a,b)= min(akx+bky)$$ $$\\because gcd(ka,kb) = min(kax+bky)$$\n",
    "$$\\therefore kgcd(a,b) = gcd(ka,kb)$$"
   ]
  },
  {
   "cell_type": "markdown",
   "id": "34fb4b43",
   "metadata": {},
   "source": [
    "# Problem 3\n",
    "## Question\n",
    "In this problem, we will investigate numbers which are squares\n",
    "modulo a prime number *p* .     \n",
    "**(a)** An integer n is a square modulo p if there exists another integer x such that\n",
    "$n ≡ x^2 (mod p)$. Prove that $x^2 ≡ y^2 (mod p)$ if and only if x ≡ y (mod p) or x ≡ −y\n",
    "(mod p). *(Hint: $x^2 − y^2$ = (x + y)(x − y))*  \n",
    "**(b)** There is a simple test we can perform to see if a number n is a square modulo\n",
    "p. It states that  \n",
    "**Theorem 1** (Euler’s Criterion). :\n",
    "1. If n is a square modulo p then $n^\\frac{p-1}{2}$ ≡ 1 (mod p).   \n",
    "2. If n is not a square modulo p then $n^\\frac{p-1}{2}$ ≡ −1 (mod p).  \n",
    "Prove the first part of Euler’s Criterion. (Hint: Use Fermat’s theorem.)  \n",
    "**(c)** Assume that p ≡ 3 (mod 4) and n ≡ x2 (mod p). Given n and p, find one\n",
    "possible value of x. (Hint: Write p as p = 4k +3 and use Euler’s Criterion. You might have\n",
    "to multiply two sides of an equation by n at one point.)"
   ]
  },
  {
   "cell_type": "markdown",
   "id": "461195f1",
   "metadata": {},
   "source": [
    "## Answer\n",
    "**(a)** $$x^2\\equiv y^2(mod\\ p)$$ $$\\Longleftrightarrow p\\mid x^2 - y^2$$ $$\\Longleftrightarrow p\\mid (x+y)(x-y)$$\\\n",
    "$$\\Longleftrightarrow p\\mid (x+y)\\ or\\ p\\mid (x-y)$$ $$\\Longleftrightarrow x\\equiv y(mod\\ p)\\ or\\ x\\equiv -y(mod\\ p)$$  \n",
    "**(b)** $$n\\equiv x^2(mod\\ p)$$ $$\\Longleftrightarrow x^2,n are not multiple of p$$\n",
    "$$\\Longleftrightarrow n^\\frac{p-1}{2}\\equiv(x^2)^\\frac{p-1}{2}(mod\\ p)$$\n",
    "$$\\Longleftrightarrow (x^2)^\\frac{p-1}{2} = x^{p-1}$$ $$\\Longleftrightarrow x^{p-1}\\equiv 1(mod\\ p)\\tag{Fermat's Little Theorem}$$\n",
    "$$\\Longleftrightarrow n^\\frac{p-1}{2}\\equiv 1(mod\\ p)$$  \n",
    "**(c)** Write $p=4k+3$. $$n^\\frac{4k+3-1}{2}\\equiv 1(mod\\ p)$$ $$\\Longleftrightarrow n^{2k+1}\\equiv 1(mod\\ p)$$\n",
    "$$\\Longleftrightarrow n^{2(k+1)}\\equiv n(mod\\ p)$$ $$\\Longleftrightarrow n\\equiv n^{2(k+1)}(mod\\ p)$$ $$\\therefore x = n^{(k+1)}$$"
   ]
  },
  {
   "cell_type": "markdown",
   "id": "1dcdd759",
   "metadata": {},
   "source": [
    "# Problem 4\n",
    "## Question\n",
    " Prove that for any prime, p, and integer, k ≥ 1,$$\\phi(p^k) = p^k-p^{k-1}$$ \n",
    " where $\\phi$ is Euler’s function. (*Hint: Which numbers between 0 and $p^k − 1$ are divisible by p?\n",
    "How many are there*?"
   ]
  },
  {
   "cell_type": "markdown",
   "id": "2db25754",
   "metadata": {},
   "source": [
    "## Answer \n",
    "Since p is a prime, every number between 0 and p is not divisible by p, which gives $\\phi(p) = p-1$. In the next range- $p$ to $p^2$, $p,2p,3p,...,(p-1)p$ are divisible by $p$, and so does other ranges.  \n",
    "According to **Theorem 4.7.4** at page 112, $$\\phi(p^k) = p^k(1-\\frac{1}{p})$$ $$=p^k-p^{k-1}$$"
   ]
  },
  {
   "cell_type": "markdown",
   "id": "707877dc",
   "metadata": {},
   "source": [
    "# Problem 5\n",
    "## Question\n",
    "Here is a *very, very fun* game. We start with two distinct, positive\n",
    "integers written on a blackboard. Call them x and y. You and I now take turns. (I’ll let you\n",
    "decide who goes first.) On each player’s turn, he or she must write a new positive integer on\n",
    "the board that is a common divisor of two numbers that are already there. If a player can\n",
    "not play, then he or she loses.  \n",
    "For example, suppose that 12 and 15 are on the board initially. Your first play can be 3 or 1. Then I play 3 or 1, whichever one you did not play. Then you can not play, so you lose.  \n",
    "**(a)** Show that every number on the board at the end of the game is either x, y, or\n",
    "a positive divisor of gcd(x, y).  \n",
    "**(b)** Show that every positive divisor of gcd(x, y) is on the board at the end of the\n",
    "game.  \n",
    "**(c)** Describe a strategy that lets you win this game every time.  \n",
    "  \n",
    "## Answer\n",
    "**(a)** From Problem 2 (b), we know that every common divisor can be divided by a linear combination of those two numbers.  \n",
    "**Lemma** If x,y are two positive integers and k is a common divisor of x and y, then there exist integers s,t satisfying $k\\mid sx+ty$  \n",
    "Since gcd(x,y) is the smallest linear combination of x and y, and a common divisor can be divided by any linear combination including gcd(x,y). Also, gcd is greater than any common divisor. Thus common any common divisor is a positive divisor of gcd(x,y). The situation x or y is on the board is that when x is a multiple of y or the other way around, the x or y is the gcd(x,y).  \n",
    "**(b)** Since every common divisor is a divisor of gcd(x,y). we can easily prove this by contradiction.  \n",
    "Assume that there is a divisor of gcd(x,y) and it's not on the board.  \n",
    "Assume the divisor left is a, then we know that $a\\mid gcd(x,y)$ $$\\therefore a\\mid x\\ and\\ a\\mid y$$ $$\\Longleftrightarrow a\\ is\\ a\\ common\\ divisor\\ of\\ x,y$$ \n",
    "Thus, the other person can write down a.  \n",
    "**(c)** Firstly, find the gcd(x,y).  \n",
    "Secondly, find all divisors of gcd(x,y).  \n",
    "Last, get the number of divisors including gcd(x,y). "
   ]
  },
  {
   "cell_type": "markdown",
   "id": "ba486766",
   "metadata": {},
   "source": [
    "# Problem 6\n",
    "## Question\n",
    "In one of the previous problems, you calculated square roots of numbers modulo primes equivalent to 3 modulo 4. In this problem you will prove that there are an infinite number of such primes.   \n",
    "**(a)** As a warm-up, prove that there are an infinite number of prime numbers.\n",
    "(*Hint: Suppose that the set F of all prime numbers is finite, that is F = {p1, p2, . . . , pk} and\n",
    "define n = p_1p_2 . . . p_k + 1.*).  \n",
    "**(b)** Prove that if p is an odd prime, then $p\\equiv 1(mod\\ 4)\\ or\\ p\\equiv 3(mod\\ 4)$  \n",
    "**(c)** Prove that if $n\\equiv 3(mod\\ 4)$, then n has a prime factor $p\\equiv 3(mod\\ 4)$  \n",
    "**（d)** Let F be the set of all primes p such that p ≡ 3 (mod 4). Prove by contradiction\n",
    "that F has an infinte number of primes.  \n",
    "(Hint: Suppose that F is finite, that is $F = {p_1, p_2, . . . , p_k}$ and define $n = 4p_1p_2 . . . p_k − 1.$\n",
    "Prove that there exists a prime $p_i ∈ F$ such that $p_i|n.$)  "
   ]
  },
  {
   "cell_type": "markdown",
   "id": "b672ef6c",
   "metadata": {},
   "source": [
    "**(a)** We will prove this by contradiction. That we assume F is a finite set, then difine a number $n = p_1p_2 . . . p_k + 1$.  \n",
    "**Lemma** Since every integer greater or equal than 1 can be represented as products of primes. So does n.  \n",
    "However, $$n\\equiv 1(mod\\ p_i),\\ i=1,2,...,k$$\n",
    "which means that every prime is not a divisor of n, and this violates our lemma, thus false and n is a prime.  \n",
    "So, our assumption that F is finite is wrong.  \n",
    "**(b)** Whatever p is, we can always write p as a modulo of 4. That is $p=4k+r,\\ r=0,1,2,3$.  \n",
    "From the predicate, we know p is an odd prime, thus $r\\neq 0,2$, otherwise p would be an even number.  \n",
    "$$\\therefore r=1\\ or\\ 3$$ $$\\Longleftrightarrow p\\equiv 1(mod\\ 4)\\ or\\ p\\equiv3(mod\\ 4)$$  \n",
    "**(c)** According to prime factorization, n can be written as a product of primes. $$n=p_1p_2...p_k,\\ where\\ p_i\\ is\\ a\\ prime,\\ i=1,2,..,k$$ \n",
    "We are going to do this by contradiction. Assuming that all factors $p_i\\equiv r(mod\\ 4),\\ r = 1,2$. $$\\because n\\equiv 3(mod\\ 4)$$ \n",
    "$$\\therefore p_i\\ is\\ odd\\Leftrightarrow r\\neq 2\\Leftrightarrow r=1$$\n",
    "By mutiplication rule of modulo, $$p_i\\equiv 1(mod\\ 4)\\Leftrightarrow p_1p_2...p_k\\equiv 1(mod\\ 4)$$ $$\\Leftrightarrow n\\equiv 1(mod\\ 4)$$ \n",
    "But $n\\equiv 3(mod\\ 4)$ in our assumption, thus the condition is not true. There exists $p\\equiv 3(mod\\ 4)$  \n",
    "**(d)** $$n=4p_1p_2...p_k-1>p_1,p_2,...p_k $$ $$n+1\\mid 4\\Leftrightarrow n\\equiv 3(mod\\ 4)$$ $$p_i\\nmid n,\\ i=1,2,...,k$$ \n",
    "According to previous conclution, there exists a prime factor $p_i$. that $p_i\\mid n$, which violate the assumption that $p_i,i=1,2,...,k$ are not divisors of n. Thereby, we find another number not in F but satisfy the conditions. So, the F should be infinite. "
   ]
  },
  {
   "cell_type": "code",
   "execution_count": null,
   "id": "109bc1c9",
   "metadata": {},
   "outputs": [],
   "source": []
  }
 ],
 "metadata": {
  "kernelspec": {
   "display_name": "Python 3 (ipykernel)",
   "language": "python",
   "name": "python3"
  },
  "language_info": {
   "codemirror_mode": {
    "name": "ipython",
    "version": 3
   },
   "file_extension": ".py",
   "mimetype": "text/x-python",
   "name": "python",
   "nbconvert_exporter": "python",
   "pygments_lexer": "ipython3",
   "version": "3.7.10"
  }
 },
 "nbformat": 4,
 "nbformat_minor": 5
}
